{
 "cells": [
  {
   "cell_type": "code",
   "execution_count": null,
   "metadata": {},
   "outputs": [],
   "source": [
    "!pip install --upgrade pip \n",
    "!pip install watermark\n",
    "!(cd .. && pip install -e . )# install the package in editable mode"
   ]
  },
  {
   "cell_type": "code",
   "execution_count": null,
   "metadata": {},
   "outputs": [],
   "source": [
    "%reload_ext watermark\n",
    "%watermark -p torch,pandas,matplotlib,scikit-learn,seaborn,scipy -v -m"
   ]
  },
  {
   "cell_type": "code",
   "execution_count": null,
   "metadata": {},
   "outputs": [],
   "source": [
    "import joblib\n",
    "import matplotlib.pyplot as plt\n",
    "import numpy as np\n",
    "import pandas as pd\n",
    "import seaborn as sns\n",
    "\n",
    "from scipy import stats\n",
    "from sklearn.model_selection import train_test_split\n",
    "from sklearn.preprocessing import LabelEncoder, StandardScaler\n",
    "\n",
    "import torch\n",
    "from torch import nn\n",
    "from torch import optim\n",
    "from torch.nn import functional as F\n",
    "from torch.optim.lr_scheduler import _LRScheduler\n",
    "from torch.utils.data import TensorDataset, DataLoader\n",
    "import warnings\n",
    "\n",
    "warnings.filterwarnings(\"ignore\")\n"
   ]
  },
  {
   "attachments": {},
   "cell_type": "markdown",
   "metadata": {},
   "source": [
    "### Load data from the data directory in train & test sets\n",
    "\n",
    "Labels are:\n",
    "\n",
    "    - 0 Walking\n",
    "    - 1 Walking upstairs\n",
    "    - 2 Walking downstairs\n",
    "    - 3 Sitting\n",
    "    - 4 Standing\n",
    "    - 5 Laying"
   ]
  },
  {
   "cell_type": "code",
   "execution_count": null,
   "metadata": {},
   "outputs": [],
   "source": [
    "def load_file(filepath):\n",
    "    dataframe = pd.read_csv(filepath, header=None, delim_whitespace=True)\n",
    "    return dataframe.values\n",
    "\n",
    "def load_group(filenames, prefix=''):\n",
    "    loaded = list()\n",
    "    for name in filenames:\n",
    "        data = load_file(prefix + name)\n",
    "        loaded.append(data)\n",
    "    # stack group so that features are the 3rd dimension\n",
    "    loaded = np.dstack(loaded)\n",
    "    return loaded\n",
    "\n",
    "# load a dataset group, such as train or test\n",
    "def load_dataset_group(group, prefix=''):\n",
    "    filepath = prefix + group + '/Inertial Signals/'\n",
    "    # load all 9 files as a single array\n",
    "    filenames = list()\n",
    "    # total acceleration\n",
    "    filenames += ['total_acc_x_'+group+'.txt', 'total_acc_y_'+group+'.txt', 'total_acc_z_'+group+'.txt']\n",
    "    # body acceleration\n",
    "    filenames += ['body_acc_x_'+group+'.txt', 'body_acc_y_'+group+'.txt', 'body_acc_z_'+group+'.txt']\n",
    "    # body gyroscope\n",
    "    filenames += ['body_gyro_x_'+group+'.txt', 'body_gyro_y_'+group+'.txt', 'body_gyro_z_'+group+'.txt']\n",
    "    # load input data\n",
    "    X = load_group(filenames, filepath)\n",
    "    # load class output\n",
    "    y = load_file(prefix + group + '/y_'+group+'.txt')\n",
    "    return X, y\n",
    "\n",
    "# load the dataset, returns train and test X and y elements\n",
    "def load_dataset(prefix=''):\n",
    "    # load all train\n",
    "    trainX, trainy = load_dataset_group('train', prefix + 'UCI HAR Dataset/')\n",
    "    print(trainX.shape, trainy.shape)\n",
    "    # load all test\n",
    "    testX, testy = load_dataset_group('test', prefix + 'UCI HAR Dataset/')\n",
    "    print(testX.shape, testy.shape)\n",
    "    # zero-offset class values\n",
    "    trainy = trainy - 1\n",
    "    testy = testy - 1\n",
    "    # one hot encode y\n",
    "    #trainy = to_categorical(trainy)\n",
    "    #testy = to_categorical(testy)\n",
    "    #print(trainX.shape, trainy.shape, testX.shape, testy.shape)\n",
    "    return trainX, trainy, testX, testy\n",
    "\n",
    "\n",
    "train_X, train_y, test_X, test_y = load_dataset(prefix=\"../raw_data/\")\n",
    "\n",
    "n_timesteps, n_features, n_outputs = train_X.shape[1], train_X.shape[2], train_y.shape[1]\n",
    "\n",
    "print(\"n_timesteps: \", n_timesteps)\n",
    "print(\"n_features: \", n_features)\n",
    "print(\"n_outputs: \", n_outputs)"
   ]
  },
  {
   "attachments": {},
   "cell_type": "markdown",
   "metadata": {},
   "source": [
    "### (Not used) Let create windows of 5 seconds every 1 second"
   ]
  },
  {
   "cell_type": "code",
   "execution_count": null,
   "metadata": {},
   "outputs": [],
   "source": [
    "data = []\n",
    "target = []\n",
    "\n",
    "window_size = 100\n",
    "step_size = 50\n",
    "\n",
    "# creating overlaping windows of size window-size 100\n",
    "for i in range(0, df_train.shape[0] - window_size, step_size):\n",
    "    xs = df_train['x-axis'].values[i: i + window_size]\n",
    "    ys = df_train['y-axis'].values[i: i + window_size]\n",
    "    zs = df_train['z-axis'].values[i: i + window_size]\n",
    "    label = stats.mode(df_train['activity'][i: i + window_size])[0][0]\n",
    "\n",
    "    data.append([xs, ys, zs])\n",
    "    target.append(label)\n",
    "\n",
    "train_size = len(data)\n",
    "    \n",
    "for i in range(0, df_test.shape[0] - window_size, step_size):\n",
    "    xs = df_test['x-axis'].values[i: i + window_size]\n",
    "    ys = df_test['y-axis'].values[i: i + window_size]\n",
    "    zs = df_test['z-axis'].values[i: i + window_size]\n",
    "    label = stats.mode(df_test['activity'][i: i + 100])[0][0]\n",
    "\n",
    "    data.append([xs, ys, zs])\n",
    "    target.append(label)"
   ]
  },
  {
   "attachments": {},
   "cell_type": "markdown",
   "metadata": {},
   "source": [
    "#### Check distribution of test labels"
   ]
  },
  {
   "cell_type": "code",
   "execution_count": null,
   "metadata": {},
   "outputs": [],
   "source": [
    "sns.histplot(test_y);"
   ]
  },
  {
   "cell_type": "code",
   "execution_count": null,
   "metadata": {},
   "outputs": [],
   "source": [
    "train_X.shape"
   ]
  },
  {
   "cell_type": "code",
   "execution_count": null,
   "metadata": {},
   "outputs": [],
   "source": [
    "train_X = np.transpose(train_X, (0, 2, 1))\n",
    "train_X.shape"
   ]
  },
  {
   "cell_type": "code",
   "execution_count": null,
   "metadata": {},
   "outputs": [],
   "source": [
    "test_X = np.transpose(test_X, (0, 2, 1))\n",
    "test_X.shape"
   ]
  },
  {
   "cell_type": "code",
   "execution_count": null,
   "metadata": {},
   "outputs": [],
   "source": [
    "train_y, test_y = train_y.flatten(), test_y.flatten()"
   ]
  },
  {
   "attachments": {},
   "cell_type": "markdown",
   "metadata": {},
   "source": [
    "From here onwards, we could transform each 5sec window into a feature vector to eliminate time dependency. We could use the following features:\n",
    "\n",
    "    - mean of x, y, z,\n",
    "    - standard deviation of x, y, z,\n",
    "    - ...\n",
    "\n",
    "Our preference goes to directly use the time series as input to a neural network. We will use a transformer to predict the activity class."
   ]
  },
  {
   "attachments": {},
   "cell_type": "markdown",
   "metadata": {},
   "source": [
    "### My PYTORCH model"
   ]
  },
  {
   "cell_type": "code",
   "execution_count": null,
   "metadata": {},
   "outputs": [],
   "source": [
    "# from sklearn.preprocessing import StandardScaler\n",
    "# from sklearn.preprocessing import OneHotEncoder\n",
    "from sklearn.model_selection import train_test_split\n",
    "\n",
    "# from sklearn.preprocessing import LabelEncoder  \n",
    "\n",
    "# le = LabelEncoder()\n",
    "# target = le.fit_transform(target)"
   ]
  },
  {
   "cell_type": "code",
   "execution_count": null,
   "metadata": {},
   "outputs": [],
   "source": [
    "def create_datasets(X, y, valid_pct=0.1, seed=None):\n",
    "    \"\"\"Converts NumPy arrays into PyTorch datsets.\n",
    "    \n",
    "    Three datasets are created in total:\n",
    "        * training dataset\n",
    "        * validation dataset\n",
    "        * testing (un-labelled) dataset\n",
    "\n",
    "    \"\"\"\n",
    "    tv_X, test_X = X\n",
    "    tv_y, test_y = y\n",
    "    \n",
    "    sz = tv_X.shape[0]\n",
    "    \n",
    "    idx = np.arange(sz)\n",
    "    trn_idx, val_idx = train_test_split(idx, test_size=valid_pct, random_state=seed)\n",
    "    \n",
    "    print(\"trn_idx.shape: \", trn_idx.shape)\n",
    "    print(\"val_idx.shape: \", val_idx.shape)\n",
    "    \n",
    "    valid_X = tv_X[val_idx]\n",
    "    valid_y = tv_y[val_idx]\n",
    "    \n",
    "    train_X = tv_X[trn_idx]\n",
    "    train_y = tv_y[trn_idx]\n",
    "    \n",
    "    print(\"train_X.shape: \", train_X.shape)\n",
    "    print(\"train_y.shape: \", train_y.shape)\n",
    "    print(\"valid_X.shape: \", valid_X.shape)\n",
    "    print(\"valid_y.shape: \", valid_y.shape)\n",
    "    \n",
    "    trn_ds = TensorDataset(\n",
    "        torch.tensor(train_X).float(), \n",
    "        torch.tensor(train_y).long())\n",
    "    val_ds = TensorDataset(\n",
    "        torch.tensor(valid_X).float(), \n",
    "        torch.tensor(valid_y).long())\n",
    "    tst_ds = TensorDataset(\n",
    "        torch.tensor(test_X).float(), \n",
    "        torch.tensor(test_y).long())\n",
    "    return trn_ds, val_ds, tst_ds\n",
    "\n",
    "def create_loaders(data, bs=128, jobs=0):\n",
    "    \"\"\"Wraps the datasets returned by create_datasets function with data loaders.\"\"\"\n",
    "    \n",
    "    trn_ds, val_ds, tst_ds = data\n",
    "    trn_dl = DataLoader(trn_ds, batch_size=bs, shuffle=True, num_workers=jobs)\n",
    "    val_dl = DataLoader(val_ds, batch_size=bs, shuffle=False, num_workers=jobs)\n",
    "    tst_dl = DataLoader(tst_ds, batch_size=bs, shuffle=False, num_workers=jobs)\n",
    "    return trn_dl, val_dl, tst_dl"
   ]
  },
  {
   "cell_type": "code",
   "execution_count": null,
   "metadata": {},
   "outputs": [],
   "source": [
    "from ml.models.classifiers.conv1d import Classifier"
   ]
  },
  {
   "cell_type": "code",
   "execution_count": null,
   "metadata": {},
   "outputs": [],
   "source": [
    "datasets = create_datasets((train_X, test_X), (train_y, test_y), seed=42)"
   ]
  },
  {
   "cell_type": "code",
   "execution_count": null,
   "metadata": {},
   "outputs": [],
   "source": [
    "device = torch.device('cuda:0' if torch.cuda.is_available() else 'cpu')\n",
    "device"
   ]
  },
  {
   "cell_type": "code",
   "execution_count": null,
   "metadata": {},
   "outputs": [],
   "source": [
    "train_size = train_X.shape[0]\n",
    "nb_feat = train_X.shape[1]\n",
    "\n",
    "trn_dl, val_dl, tst_dl = create_loaders(datasets, bs=128)\n",
    "\n",
    "print(len(trn_dl), len(val_dl), len(tst_dl))\n",
    "\n",
    "lr = 0.001\n",
    "n_epochs = 1500\n",
    "iterations_per_epoch = len(trn_dl)\n",
    "num_classes = 6\n",
    "best_acc = 0\n",
    "patience, trials = 200, 0\n",
    "base = 1\n",
    "step = 2\n",
    "loss_history = []\n",
    "acc_history = []\n",
    "\n",
    "model = Classifier(nb_feat, num_classes).to(device)\n",
    "                                                                                        \n",
    "criterion = nn.CrossEntropyLoss(reduction='sum')\n",
    "# criterion = nn.NLLLoss()\n",
    "\n",
    "opt = optim.Adam(model.parameters(), lr=lr)\n",
    "\n",
    "print('Start model training')\n",
    "\n",
    "for epoch in range(1, n_epochs + 1):\n",
    "    \n",
    "    model.train()\n",
    "    epoch_loss = 0\n",
    "    total = 0\n",
    "    for i, batch in enumerate(trn_dl):\n",
    "        # for t in batch:\n",
    "        #     print(t.shape, t.dtype)\n",
    "        x_batch, y_batch = [t.to(device) for t in batch]\n",
    "        opt.zero_grad()\n",
    "        out = model(x_batch)\n",
    "        loss = criterion(out, y_batch)\n",
    "        epoch_loss += loss.item()\n",
    "        loss.backward()\n",
    "        opt.step()\n",
    "        total += y_batch.size(0)\n",
    "                \n",
    "    epoch_loss /= train_size\n",
    "    loss_history.append(epoch_loss)\n",
    "\n",
    "    model.eval()\n",
    "    correct, total = 0, 0\n",
    "    for batch in val_dl:\n",
    "        x_batch, y_batch = [t.to(device) for t in batch]\n",
    "        out = model(x_batch)\n",
    "        preds = F.log_softmax(out, dim=1).argmax(dim=1)\n",
    "        total += y_batch.size(0)\n",
    "        correct += (preds == y_batch).sum().item()\n",
    "    \n",
    "    acc = correct / total\n",
    "    acc_history.append(acc)\n",
    "\n",
    "    if epoch % base == 0:\n",
    "        print(f'Epoch: {epoch:3d} Loss: {epoch_loss:.4f}. Acc.: {acc:2.2%}')\n",
    "        base *= step\n",
    "\n",
    "    if acc > best_acc:\n",
    "        trials = 0\n",
    "        best_acc = acc\n",
    "        torch.save(model.state_dict(), '../models/best.pth')\n",
    "        print(f'Epoch: {epoch:3d} best model saved with accuracy: {best_acc:2.2%}')\n",
    "    else:\n",
    "        trials += 1\n",
    "        if trials >= patience:\n",
    "            print(f'Early stopping on epoch {epoch}')\n",
    "            break\n",
    "            \n",
    "print('Done!')"
   ]
  },
  {
   "cell_type": "code",
   "execution_count": null,
   "metadata": {},
   "outputs": [],
   "source": [
    "def smooth(y, box_pts):\n",
    "    box = np.ones(box_pts)/box_pts\n",
    "    y_smooth = np.convolve(y, box, mode='same')\n",
    "    return y_smooth"
   ]
  },
  {
   "cell_type": "code",
   "execution_count": null,
   "metadata": {},
   "outputs": [],
   "source": [
    "f, ax = plt.subplots(1, 2, figsize=(12, 4))\n",
    "\n",
    "ax[0].plot(loss_history, label='loss')\n",
    "ax[0].set_title('Validation Loss History')\n",
    "ax[0].set_xlabel('Epoch no.')\n",
    "ax[0].set_ylabel('Loss')\n",
    "\n",
    "ax[1].plot(smooth(acc_history, 5)[:-2], label='acc')\n",
    "ax[1].set_title('Validation Accuracy History')\n",
    "ax[1].set_xlabel('Epoch no.')\n",
    "ax[1].set_ylabel('Accuracy');"
   ]
  },
  {
   "attachments": {},
   "cell_type": "markdown",
   "metadata": {},
   "source": [
    "### Using test set to evaluate model"
   ]
  },
  {
   "cell_type": "code",
   "execution_count": null,
   "metadata": {},
   "outputs": [],
   "source": [
    "model = Classifier(nb_feat, num_classes).to(device)\n",
    "\n",
    "model.load_state_dict(torch.load('../models/best.pth'))\n",
    "model.eval()\n",
    "\n",
    "correct, total = 0, 0\n",
    "for batch in val_dl:\n",
    "    x_batch, y_batch = [t.to(device) for t in batch]\n",
    "    out = model(x_batch)\n",
    "    y_hat = F.log_softmax(out, dim=1).argmax(dim=1)\n",
    "    total += y_batch.size(0)\n",
    "    correct += (y_hat == y_batch).sum().item()\n",
    "    \n",
    "print(f\"Test accuracy: {correct / total:2.2%}\")"
   ]
  },
  {
   "cell_type": "code",
   "execution_count": null,
   "metadata": {},
   "outputs": [],
   "source": [
    "first_batch = next(iter(tst_dl))\n",
    "x_batch, y_batch = first_batch[0], first_batch[0][1]\n",
    "x = x_batch[0].to(device)\n",
    "y = y_batch[0].to(device)\n",
    "        \n",
    "x_test = x.reshape((1, 9, 128))\n",
    "    \n",
    "y_test = F.log_softmax(model(x_test.to(device)), dim=1).argmax(dim=1)\n",
    "print(y_test)"
   ]
  },
  {
   "cell_type": "markdown",
   "metadata": {},
   "source": [
    "### Create an MLFlow model"
   ]
  },
  {
   "cell_type": "code",
   "execution_count": null,
   "metadata": {},
   "outputs": [],
   "source": [
    "!pip install mlflow\"[skinny]\""
   ]
  },
  {
   "cell_type": "code",
   "execution_count": null,
   "metadata": {},
   "outputs": [],
   "source": [
    "import cloudpickle\n",
    "import platform\n",
    "import os\n",
    "import shutil\n",
    "\n",
    "from mlflow import __version__ as mlflow_version\n",
    "from mlflow.pyfunc import PythonModel, save_model, load_model\n",
    "# from mlflow.pytorch import save_model, load_model\n",
    "from mlflow.models import Model, ModelSignature\n",
    "from mlflow.models.signature import infer_signature\n",
    "\n",
    "from pandas import __version__ as pd_version\n",
    "\n",
    "from mlflow.pytorch import log_model, save_model, load_model\n",
    "from torch import __version__ as pytorch_version\n",
    "\n",
    "cp_version = cloudpickle.__version__\n",
    "py_version = platform.python_version()\n",
    "conda_env_template = \"\"\"\n",
    "channels:\n",
    "- defaults\n",
    "dependencies:\n",
    "- python={python_version}\n",
    "- pip\n",
    "- pip:\n",
    "  - cloudpickle=={cp_version}\n",
    "  - mlflow=={mlflow_version}\n",
    "  - pytorch=={pytorch_version}\n",
    "\n",
    "name: mlflow-env\n",
    "\"\"\".format(python_version=py_version, mlflow_version=mlflow_version, pytorch_version=pytorch_version, cp_version=cp_version)\n",
    "\n",
    "conda_env_path = 'pyfunc_conda_env.yml'\n",
    "with open('pyfunc_conda_env.yml','w') as f:\n",
    "    f.write(conda_env_template)\n",
    "\n",
    "state_dict_path = f'../models/best.pth'\n",
    "artifacts = {\n",
    "    \"state_dict_model\": state_dict_path,\n",
    "}\n",
    "\n",
    "class ModelWrapper(mlflow.pyfunc.PythonModel):\n",
    "    def load_context(self, context):\n",
    "        from ml.models.classifiers.conv1d import Classifier\n",
    "        \n",
    "        self._model = Classifier(9, 6)\n",
    "        self._model.load_state_dict(torch.load(context.artifacts[\"state_dict_model\"], map_location=\"cpu\"))\n",
    "        self._model.eval()\n",
    "    \n",
    "    def predict(self, context, input_model):\n",
    "        from torch import functional as F\n",
    "        \n",
    "        model_pred = self._model(inputs).detach().cpu().numpy()\n",
    "        \n",
    "        predictions = F.log_softmax(out, dim=1).argmax(dim=1)\n",
    "        \n",
    "        pred_results = predictions[0].tolist()\n",
    "        \n",
    "        results = {\n",
    "            \"class\": [pred_results[0]],\n",
    "        }\n",
    "        return pd.DataFrame.from_dict(results)\n",
    "    \n",
    "# model = ModelWrapper()\n",
    "# context = mlflow.pyfunc.PythonModelContext(artifacts=artifacts)\n",
    "# print(context)\n",
    "# model.load_context(context=context)\n",
    "\n",
    "signature = infer_signature(x_test.numpy(), y_test.numpy())\n",
    "\n",
    "## Package the model\n",
    "# Location in our gdrive where we want the model to be saved\n",
    "model_path = f\"/tmp/model\"\n",
    "# If the directory already exists, delete it\n",
    "if os.path.exists(model_path):\n",
    "    shutil.rmtree(model_path)\n",
    "\n",
    "# Package the model!\n",
    "mlflow.pyfunc.save_model(path=model_path,\n",
    "           python_model=ModelWrapper(),\n",
    "           artifacts=artifacts,\n",
    "           conda_env=conda_env_path,\n",
    "           code_path=['../ml/models/classifiers/conv1d.py',],\n",
    "           signature=signature,)\n",
    "\n",
    "# zip the model and save it to the local file named model.zip\n",
    "shutil.make_archive(model_path, 'zip', model_path)\n"
   ]
  }
 ],
 "metadata": {
  "kernelspec": {
   "display_name": "ts_pytorch",
   "language": "python",
   "name": "python3"
  },
  "language_info": {
   "codemirror_mode": {
    "name": "ipython",
    "version": 3
   },
   "file_extension": ".py",
   "mimetype": "text/x-python",
   "name": "python",
   "nbconvert_exporter": "python",
   "pygments_lexer": "ipython3",
   "version": "3.8.13"
  },
  "orig_nbformat": 4,
  "vscode": {
   "interpreter": {
    "hash": "3a33646244961d108c645f57fdde5de6b2206d4a10970eff6bab93860830080f"
   }
  }
 },
 "nbformat": 4,
 "nbformat_minor": 2
}
